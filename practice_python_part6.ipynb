{
 "cells": [
  {
   "cell_type": "markdown",
   "id": "23dad08a",
   "metadata": {},
   "source": [
    "**1. Последний с четными**\n",
    "\n",
    "Дано: список (list) целых чисел (int).\n",
    "\n",
    "Задание: нужно найти сумму элементов с четными индексами (0-й, 2-й, 4-й итд), затем перемножить эту сумму и последний элемент исходного массива."
   ]
  },
  {
   "cell_type": "code",
   "execution_count": 2,
   "id": "07511f3f",
   "metadata": {},
   "outputs": [
    {
     "name": "stdout",
     "output_type": "stream",
     "text": [
      "30\n"
     ]
    }
   ],
   "source": [
    "def multiply_even_sum_with_last (elements):\n",
    "    if elements:\n",
    "        even_sum = sum(elements[0::2])\n",
    "        result = even_sum * elements[-1]\n",
    "        print(result)\n",
    "    if not elements:\n",
    "        print(0)\n",
    "\n",
    "\n",
    "elements = [0, 1, 2, 3, 4, 5]\n",
    "multiply_even_sum_with_last(elements)"
   ]
  },
  {
   "cell_type": "markdown",
   "id": "f7ad67ea",
   "metadata": {},
   "source": [
    "**2. Max-min**\n",
    "\n",
    "Дано: массив чисел (float или/и int).\n",
    "\n",
    "Задание: нужно найти разницу между самым большим (максимум) и самым малым (минимум) элементом. Если список пуст, то результат равен 0 (ноль).\n",
    "\n",
    "Числа с плавающей точкой представлены в компьютерах как двоичная дробь. Результат проверяется с точностью до третьего знака, как ±0.001"
   ]
  },
  {
   "cell_type": "code",
   "execution_count": 3,
   "id": "b55d2b7e",
   "metadata": {},
   "outputs": [
    {
     "name": "stdout",
     "output_type": "stream",
     "text": [
      "2.25\n"
     ]
    }
   ],
   "source": [
    "def difference_max_mix(elements):\n",
    "    if elements:\n",
    "        max_element = max(elements)\n",
    "        min_element = min(elements)\n",
    "        result = max_element - min_element\n",
    "        print(result)\n",
    "    if not elements:\n",
    "        print(0)\n",
    "        \n",
    "        \n",
    "elements = [1, 2, 3.25]\n",
    "difference_max_mix(elements)"
   ]
  },
  {
   "cell_type": "markdown",
   "id": "e8f54db2",
   "metadata": {},
   "source": [
    "**3. Умная сортировка**\n",
    "\n",
    "Дано: кортеж (tuple) чисел.\n",
    "\n",
    "Задание: необходимо отсортировать их, но отсортировать на основе абсолютных значений в возрастающем порядке. Для примера, последовательность (-20, -5, 10, 15) будет отсортирована следующим образом (-5, 10, 15, -20). Ваша функция должна возвращать список (list) или кортеж (tuple)."
   ]
  },
  {
   "cell_type": "code",
   "execution_count": 4,
   "id": "eccbf222",
   "metadata": {},
   "outputs": [
    {
     "name": "stdout",
     "output_type": "stream",
     "text": [
      "(-5, 10, -14, 15, -20)\n"
     ]
    }
   ],
   "source": [
    "def sort_absolute(elements):\n",
    "    result = tuple(sorted(elements, key=abs))\n",
    "    print(result)\n",
    "\n",
    "\n",
    "elements = (-20, -5, -14, 10, 15)\n",
    "sort_absolute(elements)"
   ]
  },
  {
   "cell_type": "markdown",
   "id": "cc4fa8ca",
   "metadata": {},
   "source": [
    "**4. [Junior] Медиана**\n",
    "\n",
    "Дано: кортеж или список чисел.\n",
    "\n",
    "Задание: Медиана - это числовое значение, которое делит сортированый массив чисел на большую и меньшую половины. В сортированом массиве с нечетным числом элементов медиана - это число в середине массива. Для массива с четным числом элементов, где нет одного элемента точно посередине, медиана - это среднее значение двух чисел, находящихся в середине массива. В этой задаче дан непустой массив натуральных чисел. Вам необходимо найти медиану данного массива."
   ]
  },
  {
   "cell_type": "code",
   "execution_count": 5,
   "id": "9fdce635",
   "metadata": {},
   "outputs": [
    {
     "name": "stdout",
     "output_type": "stream",
     "text": [
      "12.5\n"
     ]
    }
   ],
   "source": [
    "def find_median(elements):\n",
    "    length = len(elements)\n",
    "    index = length // 2\n",
    "    if length % 2 != 0:\n",
    "        elements_new = sorted(elements)\n",
    "        print(elements_new[index])\n",
    "    else:\n",
    "        elements_new = sorted(elements)\n",
    "        print(sum(elements_new[index - 1: index + 1]) / 2)\n",
    "        \n",
    "        \n",
    "elements = (3, 6, 20, 99, 10, 15)\n",
    "find_median(elements)"
   ]
  },
  {
   "cell_type": "markdown",
   "id": "193edd7c",
   "metadata": {},
   "source": [
    "**[Junior+] 5. Полосатые слова**\n",
    "\n",
    "Дано: текст, как строка (str).\n",
    "\n",
    "Гласные -- A E I O U Y \n",
    "\n",
    "Согласные -- B C D F G H J K L M N P Q R S T V W X Z\n",
    "\n",
    "Задание: \n",
    " Дан текст с разными словами и/или числами, которые разделены пробелами и знаками пунктуации. Числа не считаются за слова (также как и смесь букв и цифр). Необходимо подсчитать слова, в которых гласные буквы чередуются с согласными (полосатые слова), то есть в таких словах нет двух гласных или двух согласных букв подряд. Слова состоящие из одной буквы - не \"полосатые\" (не считайте их). Регистр букв не имеет значения."
   ]
  },
  {
   "cell_type": "code",
   "execution_count": 6,
   "id": "b93301e4",
   "metadata": {},
   "outputs": [
    {
     "name": "stdout",
     "output_type": "stream",
     "text": [
      "4\n"
     ]
    }
   ],
   "source": [
    "def is_vowel(c):\n",
    "    vowels = ['a', 'e', 'i', 'o', 'u', 'y']\n",
    "    return c in vowels\n",
    "\n",
    "\n",
    "def alternating_word(word):\n",
    "    if word.isalpha():\n",
    "        for i in range(len(word)-1):\n",
    "            if is_vowel(word[i]) == is_vowel(word[i+1]):\n",
    "                return False\n",
    "    return True\n",
    "\n",
    "\n",
    "def count_words_with_alternating_letters(text):\n",
    "    count = 0\n",
    "    text = text.replace(',', ' ').replace('.', ' ').lower()\n",
    "    for i in text.split():\n",
    "        if alternating_word(i):\n",
    "            count += 1\n",
    "    print(count)\n",
    "    \n",
    "    \n",
    "text = 'Hello, my name is Alex.'\n",
    "count_words_with_alternating_letters(text)"
   ]
  },
  {
   "cell_type": "code",
   "execution_count": null,
   "id": "5295e877",
   "metadata": {},
   "outputs": [],
   "source": []
  }
 ],
 "metadata": {
  "kernelspec": {
   "display_name": "Python 3 (ipykernel)",
   "language": "python",
   "name": "python3"
  },
  "language_info": {
   "codemirror_mode": {
    "name": "ipython",
    "version": 3
   },
   "file_extension": ".py",
   "mimetype": "text/x-python",
   "name": "python",
   "nbconvert_exporter": "python",
   "pygments_lexer": "ipython3",
   "version": "3.10.8"
  }
 },
 "nbformat": 4,
 "nbformat_minor": 5
}
